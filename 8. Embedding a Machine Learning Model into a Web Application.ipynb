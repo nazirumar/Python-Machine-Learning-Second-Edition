{
 "cells": [
  {
   "cell_type": "markdown",
   "metadata": {},
   "source": [
    "In this chapter, you will learn how to embed a machine learning model into a web\n",
    "application that can not only classify, but also learn from data in real time. The topics\n",
    "that we will cover are as follows"
   ]
  },
  {
   "cell_type": "markdown",
   "metadata": {},
   "source": [
    "#### Saving the current state of a trained machine learning model\n",
    "\n",
    "    .  Using SQLite databases for data storage\n",
    "    .  Developing a web application using the popular Flask web framework\n",
    "    .  Deploying a machine learning application to a public web server"
   ]
  },
  {
   "cell_type": "code",
   "execution_count": 3,
   "metadata": {},
   "outputs": [],
   "source": [
    "import pickle\n",
    "import os\n",
    "from sklearn.linear_model import SGDClassifier\n",
    "from nltk.corpus import stopwords\n",
    "\n",
    "stop = stopwords.words('english')\n",
    "\n",
    "clf = SGDClassifier(loss='log_loss', random_state=1, max_iter=1)\n",
    "\n",
    "dest = os.path.join('movieclassifier', 'pkl_objects')\n",
    "if not os.path.exists(dest):\n",
    "    os.makedirs(dest)\n",
    "\n",
    "pickle.dump(stop, open(os.path.join(dest, 'stopwords.pkl'),'wb'), protocol=4)\n",
    "pickle.dump(clf, open(os.path.join(dest, 'classifier.pkl'), 'wb'), protocol=4)\n"
   ]
  },
  {
   "cell_type": "code",
   "execution_count": 2,
   "metadata": {},
   "outputs": [],
   "source": [
    "import pickle\n",
    "import os\n",
    "from sklearn.linear_model import SGDClassifier\n",
    "from nltk.corpus import stopwords\n",
    "import nltk\n",
    "\n",
    "# Ensure the stopwords corpus is downloaded\n",
    "try:\n",
    "    stop = stopwords.words('english')\n",
    "except LookupError:\n",
    "    nltk.download('stopwords')\n",
    "    stop = stopwords.words('english')\n",
    "\n",
    "# Initialize the classifier\n",
    "clf = SGDClassifier(loss='log_loss', random_state=1, max_iter=1)\n",
    "\n",
    "# Define the destination directory\n",
    "dest = os.path.join('movieclassifier', 'pkl_objects')\n",
    "if not os.path.exists(dest):\n",
    "    os.makedirs(dest)\n",
    "\n",
    "# Save the stopwords list to a pickle file\n",
    "with open(os.path.join(dest, 'stopwords.pkl'), 'wb') as stopwords_file:\n",
    "    pickle.dump(stop, stopwords_file, protocol=4)\n",
    "\n",
    "# Save the classifier to a pickle file\n",
    "with open(os.path.join(dest, 'classifier.pkl'), 'wb') as classifier_file:\n",
    "    pickle.dump(clf, classifier_file, protocol=4)\n"
   ]
  },
  {
   "cell_type": "markdown",
   "metadata": {},
   "source": [
    "### Setting up an SQLite database for data storage"
   ]
  },
  {
   "cell_type": "code",
   "execution_count": null,
   "metadata": {},
   "outputs": [],
   "source": [
    "\n"
   ]
  }
 ],
 "metadata": {
  "kernelspec": {
   "display_name": "base",
   "language": "python",
   "name": "python3"
  },
  "language_info": {
   "codemirror_mode": {
    "name": "ipython",
    "version": 3
   },
   "file_extension": ".py",
   "mimetype": "text/x-python",
   "name": "python",
   "nbconvert_exporter": "python",
   "pygments_lexer": "ipython3",
   "version": "3.11.5"
  }
 },
 "nbformat": 4,
 "nbformat_minor": 2
}
